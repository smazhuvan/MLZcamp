{
 "cells": [
  {
   "cell_type": "code",
   "execution_count": 3,
   "id": "719ecde1-985c-437b-b4d4-445b43987ed5",
   "metadata": {},
   "outputs": [
    {
     "name": "stdout",
     "output_type": "stream",
     "text": [
      "Python 3.13.5\n"
     ]
    }
   ],
   "source": [
    "!python -V"
   ]
  },
  {
   "cell_type": "code",
   "execution_count": 67,
   "id": "e9700ca8-ca7e-4027-be1f-af4ffa2238c4",
   "metadata": {},
   "outputs": [],
   "source": [
    "import pandas as pd\n",
    "import numpy as np"
   ]
  },
  {
   "cell_type": "markdown",
   "id": "5834be83-efa1-4fb7-ab82-57e2c372d87a",
   "metadata": {},
   "source": [
    "## Question 1. Pandas Version"
   ]
  },
  {
   "cell_type": "code",
   "execution_count": 5,
   "id": "4863e7a2-e5f8-46e5-a28f-6bae8be9d627",
   "metadata": {},
   "outputs": [
    {
     "data": {
      "text/plain": [
       "'2.2.3'"
      ]
     },
     "execution_count": 5,
     "metadata": {},
     "output_type": "execute_result"
    }
   ],
   "source": [
    "pd.__version__"
   ]
  },
  {
   "cell_type": "code",
   "execution_count": 9,
   "id": "a129fb94-a9c5-42a2-bd21-b6ba17b9d149",
   "metadata": {},
   "outputs": [
    {
     "name": "stdout",
     "output_type": "stream",
     "text": [
      "--2025-09-29 13:28:58--  https://raw.githubusercontent.com/alexeygrigorev/datasets/master/car_fuel_efficiency.csv\n",
      "Resolving raw.githubusercontent.com (raw.githubusercontent.com)... 185.199.109.133, 185.199.110.133, 185.199.111.133, ...\n",
      "Connecting to raw.githubusercontent.com (raw.githubusercontent.com)|185.199.109.133|:443... connected.\n",
      "HTTP request sent, awaiting response... 200 OK\n",
      "Length: 874188 (854K) [text/plain]\n",
      "Saving to: ‘car_fuel_efficiency.csv.1’\n",
      "\n",
      "car_fuel_efficiency 100%[===================>] 853.70K  --.-KB/s    in 0.005s  \n",
      "\n",
      "2025-09-29 13:28:58 (170 MB/s) - ‘car_fuel_efficiency.csv.1’ saved [874188/874188]\n",
      "\n"
     ]
    }
   ],
   "source": [
    "# Fetching the data\n",
    "!wget https://raw.githubusercontent.com/alexeygrigorev/datasets/master/car_fuel_efficiency.csv"
   ]
  },
  {
   "cell_type": "code",
   "execution_count": 8,
   "id": "003eed95-357b-4cfe-9340-a4765071fa34",
   "metadata": {},
   "outputs": [],
   "source": [
    "# Loading the dataframe\n",
    "df = pd.read_csv('car_fuel_efficiency.csv')"
   ]
  },
  {
   "cell_type": "markdown",
   "id": "3bdab9a0-06f5-4dc6-8b48-6f328e78a986",
   "metadata": {},
   "source": [
    "## Question 2. Records Count"
   ]
  },
  {
   "cell_type": "code",
   "execution_count": 13,
   "id": "8b511fa6-cfc7-4cb0-bc64-4f7042d73865",
   "metadata": {},
   "outputs": [
    {
     "name": "stdout",
     "output_type": "stream",
     "text": [
      "The number of records in the DataFrame is: 9704\n"
     ]
    }
   ],
   "source": [
    "# Getting the number of records\n",
    "records_count = df.shape[0]\n",
    "\n",
    "# Printing the records count\n",
    "print(f\"The number of records in the DataFrame is: {records_count}\")"
   ]
  },
  {
   "cell_type": "markdown",
   "id": "9dcf902d-f63a-496b-b195-4119a7327ebf",
   "metadata": {},
   "source": [
    "## Question 3. Fuel Types"
   ]
  },
  {
   "cell_type": "code",
   "execution_count": 20,
   "id": "07717d71-ba49-45df-95c0-aeeaa6130a3f",
   "metadata": {},
   "outputs": [
    {
     "name": "stdout",
     "output_type": "stream",
     "text": [
      "There are 2 types of fuel and they are Gasoline and Diesel\n"
     ]
    }
   ],
   "source": [
    "# Fetching the fuel types count\n",
    "fuel_type_counts = df['fuel_type'].nunique()\n",
    "\n",
    "# Fetching the fuel types name\n",
    "fuel_types = df['fuel_type'].unique()\n",
    "\n",
    "# Printing the count\n",
    "print(f\"There are {fuel_type_counts} types of fuel and they are {fuel_types[0]} and {fuel_types[1]}\")"
   ]
  },
  {
   "cell_type": "markdown",
   "id": "fc6752b1-2a2f-4018-83be-1d4ee17740f0",
   "metadata": {},
   "source": [
    "## Question 4. Missing Values"
   ]
  },
  {
   "cell_type": "code",
   "execution_count": 52,
   "id": "88fb60b2-15dc-4a8c-bf7c-2dbd8b182133",
   "metadata": {},
   "outputs": [
    {
     "name": "stdout",
     "output_type": "stream",
     "text": [
      "Number of columns that have missing values are 4 and the columns are as follows:\n",
      "\n",
      "1.num_cylinders\n",
      "2.horsepower\n",
      "3.acceleration\n",
      "4.num_doors\n"
     ]
    }
   ],
   "source": [
    "# Calculating the number of missing values for each column\n",
    "missing_values = df.isnull().sum()\n",
    "\n",
    "# Filter the Series to include only counts > 0\n",
    "columns_with_missing_data = missing_values[missing_values > 0]\n",
    "column_names = columns_with_missing_data.index.tolist()\n",
    "\n",
    "# Printing the number of columns that have missing values\n",
    "print(f\"Number of columns that have missing values are {columns_with_missing_data.size} and the columns are as follows:\\n\")\n",
    "\n",
    "for i in range(len(column_names)):\n",
    "    print(f\"{i+1}.{column_names[i]}\")"
   ]
  },
  {
   "cell_type": "markdown",
   "id": "ccffaa11-d5d7-4aad-810d-cc36db23b2be",
   "metadata": {},
   "source": [
    "## Question 5. Max Fuel Efficiency"
   ]
  },
  {
   "cell_type": "code",
   "execution_count": 66,
   "id": "463de89c-4b6e-4841-a5cf-3554c5fe79dc",
   "metadata": {},
   "outputs": [
    {
     "name": "stdout",
     "output_type": "stream",
     "text": [
      "Maximum fuel efficiency is 23.76\n"
     ]
    }
   ],
   "source": [
    "# Getting the max value from the fuel_efficiency column\n",
    "max_asia_fuel_efficiency = df[df['origin'] == 'Asia']['fuel_efficiency_mpg'].max()\n",
    "\n",
    "# Printing the max value with 2 decimal values\n",
    "print(f\"Maximum fuel efficiency of asian cars is {max_asia_fuel_efficiency:.2f}\")"
   ]
  },
  {
   "cell_type": "markdown",
   "id": "6972035e-639b-46eb-aff5-a238b4a0dbfd",
   "metadata": {},
   "source": [
    "## Question 6. Median Value of Horsepower"
   ]
  },
  {
   "cell_type": "code",
   "execution_count": 65,
   "id": "4acade28-7375-42c5-91d7-a035fec39219",
   "metadata": {},
   "outputs": [
    {
     "name": "stdout",
     "output_type": "stream",
     "text": [
      "Initial Median Horsepower: 149.0\n",
      "Mode Horsepower used for imputation: 152.0\n",
      "New Median Horsepower after imputation: 152.0\n",
      "Has the median changed? Yes, it increased\n",
      "\n"
     ]
    }
   ],
   "source": [
    "# 1. Calculate the initial median\n",
    "initial_median_hp = df['horsepower'].median()\n",
    "\n",
    "# 2. Calculate the most frequent value (mode)\n",
    "# We use .iloc[0] because mode can return multiple values if there's a tie\n",
    "mode_hp = df['horsepower'].mode().iloc[0]\n",
    "\n",
    "# 3. Fill missing values with the mode\n",
    "# We create a copy of the column to avoid modifying the main DataFrame for Q7\n",
    "hp_imputed = df['horsepower'].fillna(mode_hp)\n",
    "\n",
    "# 4. Calculate the new median\n",
    "new_median_hp = hp_imputed.median()\n",
    "\n",
    "# 5. Compare and determine the answer\n",
    "changed = \"No\"\n",
    "if new_median_hp > initial_median_hp:\n",
    "    changed = \"Yes, it increased\"\n",
    "elif new_median_hp < initial_median_hp:\n",
    "    changed = \"Yes, it decreased\"\n",
    "\n",
    "print(f\"Initial Median Horsepower: {initial_median_hp}\")\n",
    "print(f\"Mode Horsepower used for imputation: {mode_hp}\")\n",
    "print(f\"New Median Horsepower after imputation: {new_median_hp}\")\n",
    "print(f\"Has the median changed? {changed}\\n\")"
   ]
  },
  {
   "cell_type": "markdown",
   "id": "57bd9cf2-787e-441c-9cfb-aafa588dcbef",
   "metadata": {},
   "source": [
    "## Question 7. Sum of Weights"
   ]
  },
  {
   "cell_type": "code",
   "execution_count": 71,
   "id": "08a0323a-32df-462f-9957-50512c09cbaf",
   "metadata": {},
   "outputs": [
    {
     "name": "stdout",
     "output_type": "stream",
     "text": [
      "The vector w (results of the matrix operation) is: [0.01386421 0.5049067 ]\n",
      "Sum of all elements of w: 0.52\n"
     ]
    }
   ],
   "source": [
    "from numpy.linalg import inv\n",
    "\n",
    "# 1. Select all the cars from Asia\n",
    "df_asia = df[df['origin'] == 'Asia']\n",
    "\n",
    "# 2. Select only columns vehicle_weight and model_year\n",
    "df_subset = df_asia[['vehicle_weight', 'model_year']]\n",
    "\n",
    "# 3. Select the first 7 values\n",
    "df_subset = df_subset.head(7)\n",
    "\n",
    "# 4. Get the underlying NumPy array, X\n",
    "X = df_subset.to_numpy() # X is 7x2\n",
    "\n",
    "# 5. Compute matrix-matrix multiplication between the transpose of X and X (XTX)\n",
    "XT = X.T # 2x7\n",
    "XTX = XT @ X # 2x2\n",
    "\n",
    "# 6. Invert XTX\n",
    "try:\n",
    "    XTX_inv = inv(XTX)\n",
    "except np.linalg.LinAlgError:\n",
    "    print(\"Error: Matrix XTX is singular and cannot be inverted.\")\n",
    "    XTX_inv = None # Should not happen for a well-conditioned matrix\n",
    "\n",
    "# 7. Create array y\n",
    "y = np.array([1100, 1300, 800, 900, 1000, 1100, 1200]) # 7x1\n",
    "\n",
    "# 8. Multiply the inverse of XTX with the transpose of X, and then multiply the result by y. Call the result w.\n",
    "if XTX_inv is not None:\n",
    "    # w = (XTX_inv @ XT) @ y\n",
    "    w = XTX_inv @ XT @ y\n",
    "    \n",
    "    # 9. What's the sum of all the elements of the result?\n",
    "    sum_w = w.sum()\n",
    "    \n",
    "    print(f\"The vector w (results of the matrix operation) is: {w}\")\n",
    "    print(f\"Sum of all elements of w: {sum_w:.2f}\")\n",
    "\n",
    "else:\n",
    "    sum_w = \"Not calculated due to singular matrix error\"\n",
    "    print(sum_w)"
   ]
  },
  {
   "cell_type": "code",
   "execution_count": null,
   "id": "40bf9859-1179-40e0-b181-c1afb0a789c2",
   "metadata": {},
   "outputs": [],
   "source": []
  }
 ],
 "metadata": {
  "kernelspec": {
   "display_name": "Python 3 (ipykernel)",
   "language": "python",
   "name": "python3"
  },
  "language_info": {
   "codemirror_mode": {
    "name": "ipython",
    "version": 3
   },
   "file_extension": ".py",
   "mimetype": "text/x-python",
   "name": "python",
   "nbconvert_exporter": "python",
   "pygments_lexer": "ipython3",
   "version": "3.13.5"
  }
 },
 "nbformat": 4,
 "nbformat_minor": 5
}
